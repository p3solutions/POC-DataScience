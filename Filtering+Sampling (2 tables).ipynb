{
 "cells": [
  {
   "cell_type": "code",
   "execution_count": 91,
   "metadata": {
    "collapsed": true
   },
   "outputs": [],
   "source": [
    "import mysql.connector"
   ]
  },
  {
   "cell_type": "code",
   "execution_count": 92,
   "metadata": {
    "collapsed": true
   },
   "outputs": [],
   "source": [
    "cnx = mysql.connector.connect(user='root', password='secret',\n",
    "                              host='localhost',\n",
    "                              database='sakila')"
   ]
  },
  {
   "cell_type": "code",
   "execution_count": 93,
   "metadata": {
    "collapsed": true
   },
   "outputs": [],
   "source": [
    "import pandas as pd"
   ]
  },
  {
   "cell_type": "code",
   "execution_count": 94,
   "metadata": {
    "collapsed": true
   },
   "outputs": [],
   "source": [
    "schema = \"SELECT TABLE_NAME FROM INFORMATION_SCHEMA.TABLES WHERE TABLE_NAME like '%' and TABLE_SCHEMA = 'sakila'\""
   ]
  },
  {
   "cell_type": "code",
   "execution_count": 95,
   "metadata": {
    "collapsed": true
   },
   "outputs": [],
   "source": [
    "df = pd.read_sql(sql=schema, con=cnx, index_col=None, coerce_float=True, params=None, parse_dates=None, \n",
    "            columns=None, chunksize=None)"
   ]
  },
  {
   "cell_type": "code",
   "execution_count": 96,
   "metadata": {},
   "outputs": [
    {
     "data": {
      "text/html": [
       "<div>\n",
       "<style>\n",
       "    .dataframe thead tr:only-child th {\n",
       "        text-align: right;\n",
       "    }\n",
       "\n",
       "    .dataframe thead th {\n",
       "        text-align: left;\n",
       "    }\n",
       "\n",
       "    .dataframe tbody tr th {\n",
       "        vertical-align: top;\n",
       "    }\n",
       "</style>\n",
       "<table border=\"1\" class=\"dataframe\">\n",
       "  <thead>\n",
       "    <tr style=\"text-align: right;\">\n",
       "      <th></th>\n",
       "      <th>TABLE_NAME</th>\n",
       "    </tr>\n",
       "  </thead>\n",
       "  <tbody>\n",
       "    <tr>\n",
       "      <th>0</th>\n",
       "      <td>actor</td>\n",
       "    </tr>\n",
       "    <tr>\n",
       "      <th>1</th>\n",
       "      <td>actor_info</td>\n",
       "    </tr>\n",
       "    <tr>\n",
       "      <th>2</th>\n",
       "      <td>address</td>\n",
       "    </tr>\n",
       "    <tr>\n",
       "      <th>3</th>\n",
       "      <td>category</td>\n",
       "    </tr>\n",
       "    <tr>\n",
       "      <th>4</th>\n",
       "      <td>city</td>\n",
       "    </tr>\n",
       "    <tr>\n",
       "      <th>5</th>\n",
       "      <td>country</td>\n",
       "    </tr>\n",
       "    <tr>\n",
       "      <th>6</th>\n",
       "      <td>customer</td>\n",
       "    </tr>\n",
       "    <tr>\n",
       "      <th>7</th>\n",
       "      <td>customer_list</td>\n",
       "    </tr>\n",
       "    <tr>\n",
       "      <th>8</th>\n",
       "      <td>film</td>\n",
       "    </tr>\n",
       "    <tr>\n",
       "      <th>9</th>\n",
       "      <td>film_actor</td>\n",
       "    </tr>\n",
       "    <tr>\n",
       "      <th>10</th>\n",
       "      <td>film_category</td>\n",
       "    </tr>\n",
       "    <tr>\n",
       "      <th>11</th>\n",
       "      <td>film_list</td>\n",
       "    </tr>\n",
       "    <tr>\n",
       "      <th>12</th>\n",
       "      <td>film_text</td>\n",
       "    </tr>\n",
       "    <tr>\n",
       "      <th>13</th>\n",
       "      <td>inventory</td>\n",
       "    </tr>\n",
       "    <tr>\n",
       "      <th>14</th>\n",
       "      <td>language</td>\n",
       "    </tr>\n",
       "    <tr>\n",
       "      <th>15</th>\n",
       "      <td>nicer_but_slower_film_list</td>\n",
       "    </tr>\n",
       "    <tr>\n",
       "      <th>16</th>\n",
       "      <td>payment</td>\n",
       "    </tr>\n",
       "    <tr>\n",
       "      <th>17</th>\n",
       "      <td>rental</td>\n",
       "    </tr>\n",
       "    <tr>\n",
       "      <th>18</th>\n",
       "      <td>sales_by_film_category</td>\n",
       "    </tr>\n",
       "    <tr>\n",
       "      <th>19</th>\n",
       "      <td>sales_by_store</td>\n",
       "    </tr>\n",
       "    <tr>\n",
       "      <th>20</th>\n",
       "      <td>staff</td>\n",
       "    </tr>\n",
       "    <tr>\n",
       "      <th>21</th>\n",
       "      <td>staff_list</td>\n",
       "    </tr>\n",
       "    <tr>\n",
       "      <th>22</th>\n",
       "      <td>store</td>\n",
       "    </tr>\n",
       "  </tbody>\n",
       "</table>\n",
       "</div>"
      ],
      "text/plain": [
       "                    TABLE_NAME\n",
       "0                        actor\n",
       "1                   actor_info\n",
       "2                      address\n",
       "3                     category\n",
       "4                         city\n",
       "5                      country\n",
       "6                     customer\n",
       "7                customer_list\n",
       "8                         film\n",
       "9                   film_actor\n",
       "10               film_category\n",
       "11                   film_list\n",
       "12                   film_text\n",
       "13                   inventory\n",
       "14                    language\n",
       "15  nicer_but_slower_film_list\n",
       "16                     payment\n",
       "17                      rental\n",
       "18      sales_by_film_category\n",
       "19              sales_by_store\n",
       "20                       staff\n",
       "21                  staff_list\n",
       "22                       store"
      ]
     },
     "execution_count": 96,
     "metadata": {},
     "output_type": "execute_result"
    }
   ],
   "source": [
    "df"
   ]
  },
  {
   "cell_type": "code",
   "execution_count": 109,
   "metadata": {
    "collapsed": true
   },
   "outputs": [],
   "source": [
    "table1 = df['TABLE_NAME'][7]\n",
    "table2 = df['TABLE_NAME'][8]"
   ]
  },
  {
   "cell_type": "code",
   "execution_count": 110,
   "metadata": {
    "collapsed": true
   },
   "outputs": [],
   "source": [
    "query_identify1 = \"desc %s\"%table1\n",
    "query_identify2 = \"desc %s\"%table2\n"
   ]
  },
  {
   "cell_type": "code",
   "execution_count": 111,
   "metadata": {
    "collapsed": true
   },
   "outputs": [],
   "source": [
    "meta1 = pd.read_sql(sql=query_identify1, con=cnx, index_col=None, coerce_float=True, params=None, parse_dates=None, \n",
    "            columns=None, chunksize=None)['Type']\n",
    "meta2 = pd.read_sql(sql=query_identify2, con=cnx, index_col=None, coerce_float=True, params=None, parse_dates=None, \n",
    "            columns=None, chunksize=None)['Type']"
   ]
  },
  {
   "cell_type": "code",
   "execution_count": 112,
   "metadata": {},
   "outputs": [
    {
     "name": "stdout",
     "output_type": "stream",
     "text": [
      "0    smallint(5) unsigned\n",
      "1             varchar(91)\n",
      "2             varchar(50)\n",
      "3             varchar(10)\n",
      "4             varchar(20)\n",
      "5             varchar(50)\n",
      "6             varchar(50)\n",
      "7              varchar(6)\n",
      "8     tinyint(3) unsigned\n",
      "Name: Type, dtype: object\n"
     ]
    }
   ],
   "source": [
    "print(meta1)"
   ]
  },
  {
   "cell_type": "code",
   "execution_count": 113,
   "metadata": {},
   "outputs": [
    {
     "name": "stdout",
     "output_type": "stream",
     "text": [
      "0                                  smallint(5) unsigned\n",
      "1                                          varchar(255)\n",
      "2                                                  text\n",
      "3                                               year(4)\n",
      "4                                   tinyint(3) unsigned\n",
      "5                                   tinyint(3) unsigned\n",
      "6                                   tinyint(3) unsigned\n",
      "7                                          decimal(4,2)\n",
      "8                                  smallint(5) unsigned\n",
      "9                                          decimal(5,2)\n",
      "10                   enum('G','PG','PG-13','R','NC-17')\n",
      "11    set('Trailers','Commentaries','Deleted Scenes'...\n",
      "12                                            timestamp\n",
      "Name: Type, dtype: object\n"
     ]
    }
   ],
   "source": [
    "print(meta2)"
   ]
  },
  {
   "cell_type": "code",
   "execution_count": 114,
   "metadata": {
    "collapsed": true
   },
   "outputs": [],
   "source": [
    "dict = {}"
   ]
  },
  {
   "cell_type": "code",
   "execution_count": 115,
   "metadata": {
    "collapsed": true
   },
   "outputs": [],
   "source": [
    "# for i,c1 in enumerate(meta1):\n",
    "#     if(str(c1) != 'varchar(45)'):\n",
    "#         for j,c2 in enumerate(meta2):\n",
    "#             if(str(c2) != 'varchar(45)'):\n",
    "#                 if(str(c1) == str(c2)):\n",
    "#                    print(\"Column %d : Table 1 <=> Column %d : Table 2\"%(i+1,j+1))"
   ]
  },
  {
   "cell_type": "code",
   "execution_count": 117,
   "metadata": {},
   "outputs": [
    {
     "name": "stdout",
     "output_type": "stream",
     "text": [
      "Column 0 : Table 1 <=> Column 0 : Table 2\n",
      "Column 0 : Table 1 <=> Column 8 : Table 2\n",
      "Column 8 : Table 1 <=> Column 4 : Table 2\n",
      "Column 8 : Table 1 <=> Column 5 : Table 2\n",
      "Column 8 : Table 1 <=> Column 6 : Table 2\n"
     ]
    }
   ],
   "source": [
    "for i,c1 in enumerate(meta1):\n",
    "        dict[i] = []\n",
    "        for j,c2 in enumerate(meta2):\n",
    "                if(str(c1) == str(c2)):\n",
    "                    dict[i].append(j) \n",
    "                    print(\"Column %d : Table 1 <=> Column %d : Table 2\"%(i,j))"
   ]
  },
  {
   "cell_type": "code",
   "execution_count": 118,
   "metadata": {
    "collapsed": true
   },
   "outputs": [],
   "source": [
    "table_data_query = \"select * from (%s)\"%table1\n",
    "\n",
    "bro = pd.read_sql(sql=table_data_query, con=cnx, index_col=None, coerce_float=True, params=None, parse_dates=None, \n",
    "            columns=None, chunksize=None)"
   ]
  },
  {
   "cell_type": "code",
   "execution_count": 119,
   "metadata": {},
   "outputs": [
    {
     "data": {
      "text/plain": [
       "{0: [0, 8], 1: [], 2: [], 3: [], 4: [], 5: [], 6: [], 7: [], 8: [4, 5, 6]}"
      ]
     },
     "execution_count": 119,
     "metadata": {},
     "output_type": "execute_result"
    }
   ],
   "source": [
    "dict"
   ]
  },
  {
   "cell_type": "code",
   "execution_count": 120,
   "metadata": {
    "collapsed": true
   },
   "outputs": [],
   "source": [
    "percent = 0.05"
   ]
  },
  {
   "cell_type": "code",
   "execution_count": 123,
   "metadata": {},
   "outputs": [
    {
     "name": "stdout",
     "output_type": "stream",
     "text": [
      "0\n",
      "1\n",
      "1\n",
      "1\n",
      "1\n"
     ]
    }
   ],
   "source": [
    "for k in dict.keys():\n",
    "    l = dict[k]\n",
    "    col1 = bro.columns[k]\n",
    "    df_c1 = pd.DataFrame(bro[col1].sample(frac=percent, replace=False))\n",
    "    for v in l:\n",
    "        col2 = bro.columns[v]\n",
    "        df_c2 = pd.DataFrame(bro[col2].sample(frac=percent, replace=False))\n",
    "        print(levenshtein(df_c1, df_c2))"
   ]
  },
  {
   "cell_type": "code",
   "execution_count": null,
   "metadata": {
    "collapsed": true
   },
   "outputs": [],
   "source": []
  },
  {
   "cell_type": "code",
   "execution_count": 122,
   "metadata": {
    "collapsed": true
   },
   "outputs": [],
   "source": [
    "# def levenshtein(s1, s2):\n",
    "#     if len(s1) < len(s2):\n",
    "#         return levenshtein(s2, s1)\n",
    "\n",
    "#     # len(s1) >= len(s2)\n",
    "#     if len(s2) == 0:\n",
    "#         return len(s1)\n",
    "\n",
    "#     previous_row = range(len(s2) + 1)\n",
    "#     for i, c1 in enumerate(s1):\n",
    "#         current_row = [i + 1]\n",
    "#         for j, c2 in enumerate(s2):\n",
    "#             insertions = previous_row[j + 1] + 1\n",
    "#             deletions = current_row[j] + 1\n",
    "#             substitutions = previous_row[j] + (c1 != c2)\n",
    "#             current_row.append(min(insertions, deletions, substitutions))\n",
    "#         previous_row = current_row\n",
    "    \n",
    "#     return previous_row[-1]"
   ]
  },
  {
   "cell_type": "code",
   "execution_count": null,
   "metadata": {
    "collapsed": true
   },
   "outputs": [],
   "source": []
  }
 ],
 "metadata": {
  "kernelspec": {
   "display_name": "Python 3",
   "language": "python",
   "name": "python3"
  },
  "language_info": {
   "codemirror_mode": {
    "name": "ipython",
    "version": 3
   },
   "file_extension": ".py",
   "mimetype": "text/x-python",
   "name": "python",
   "nbconvert_exporter": "python",
   "pygments_lexer": "ipython3",
   "version": "3.6.3"
  }
 },
 "nbformat": 4,
 "nbformat_minor": 2
}
